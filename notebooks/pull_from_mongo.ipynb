{
 "cells": [
  {
   "cell_type": "markdown",
   "metadata": {},
   "source": [
    "# Pulling and Pre-Processing Listing Data   "
   ]
  },
  {
   "cell_type": "markdown",
   "metadata": {},
   "source": [
    "## Import required libraries"
   ]
  },
  {
   "cell_type": "code",
   "execution_count": 49,
   "metadata": {},
   "outputs": [],
   "source": [
    "from DomainAnalysis.mongo import get_all_listings, connect_to_mongo_db, connect_to_domain_listings\n",
    "import pandas as pd"
   ]
  },
  {
   "cell_type": "markdown",
   "metadata": {},
   "source": [
    "## Pull data from MongoDB"
   ]
  },
  {
   "cell_type": "code",
   "execution_count": 50,
   "metadata": {},
   "outputs": [],
   "source": [
    "client = connect_to_mongo_db()\n",
    "coll = connect_to_domain_listings(client)\n",
    "listings_raw = get_all_listings(coll)"
   ]
  },
  {
   "cell_type": "code",
   "execution_count": 51,
   "metadata": {},
   "outputs": [
    {
     "data": {
      "text/html": [
       "<div>\n",
       "<style scoped>\n",
       "    .dataframe tbody tr th:only-of-type {\n",
       "        vertical-align: middle;\n",
       "    }\n",
       "\n",
       "    .dataframe tbody tr th {\n",
       "        vertical-align: top;\n",
       "    }\n",
       "\n",
       "    .dataframe thead th {\n",
       "        text-align: right;\n",
       "    }\n",
       "</style>\n",
       "<table border=\"1\" class=\"dataframe\">\n",
       "  <thead>\n",
       "    <tr style=\"text-align: right;\">\n",
       "      <th></th>\n",
       "      <th>_id</th>\n",
       "      <th>listing_id</th>\n",
       "      <th>created</th>\n",
       "      <th>dateListed</th>\n",
       "      <th>dateUpdated</th>\n",
       "      <th>saleMethod</th>\n",
       "      <th>saleMode</th>\n",
       "      <th>displayPrice</th>\n",
       "      <th>minimumPrice</th>\n",
       "      <th>maximumPrice</th>\n",
       "      <th>...</th>\n",
       "      <th>house_bedrooms</th>\n",
       "      <th>house_carspaces</th>\n",
       "      <th>house_description</th>\n",
       "      <th>house_headline</th>\n",
       "      <th>house_isNewDevelopment</th>\n",
       "      <th>house_propertyType</th>\n",
       "      <th>house_landAreaSqm</th>\n",
       "      <th>agent_advertiserType</th>\n",
       "      <th>agent_advertiserId</th>\n",
       "      <th>location_unitNumber</th>\n",
       "    </tr>\n",
       "  </thead>\n",
       "  <tbody>\n",
       "    <tr>\n",
       "      <th>0</th>\n",
       "      <td>6155208cfd8729c049474af5</td>\n",
       "      <td>2017278297</td>\n",
       "      <td>2021-09-30T02:26:12.895734</td>\n",
       "      <td>2021-09-24T06:43:18Z</td>\n",
       "      <td>2021-09-27T22:29:18.3Z</td>\n",
       "      <td>auction</td>\n",
       "      <td>buy</td>\n",
       "      <td>$950,000 - $1,050,000</td>\n",
       "      <td>950000.0</td>\n",
       "      <td>1050000.0</td>\n",
       "      <td>...</td>\n",
       "      <td>3</td>\n",
       "      <td>2</td>\n",
       "      <td>OPEN FOR PRIVATE INSPECTION SAT 2ND OCTOBER - ...</td>\n",
       "      <td>Enjoy, Invest, Best Of Both!</td>\n",
       "      <td>False</td>\n",
       "      <td>house</td>\n",
       "      <td>NaN</td>\n",
       "      <td>agency</td>\n",
       "      <td>5600</td>\n",
       "      <td>NaN</td>\n",
       "    </tr>\n",
       "    <tr>\n",
       "      <th>1</th>\n",
       "      <td>61552285fd8729c049474af6</td>\n",
       "      <td>2017273091</td>\n",
       "      <td>2021-09-30T02:35:31.331938</td>\n",
       "      <td>2021-09-22T09:24:07Z</td>\n",
       "      <td>2021-09-22T09:24:07.58Z</td>\n",
       "      <td>privateTreaty</td>\n",
       "      <td>buy</td>\n",
       "      <td>$580,000</td>\n",
       "      <td>580000.0</td>\n",
       "      <td>580000.0</td>\n",
       "      <td>...</td>\n",
       "      <td>2</td>\n",
       "      <td>1</td>\n",
       "      <td>Live with cafes at the door, a panoramic view ...</td>\n",
       "      <td>Step Onto the Train, Step Up to the Roof</td>\n",
       "      <td>False</td>\n",
       "      <td>apartmentUnitFlat</td>\n",
       "      <td>NaN</td>\n",
       "      <td>agency</td>\n",
       "      <td>3937</td>\n",
       "      <td>NaN</td>\n",
       "    </tr>\n",
       "    <tr>\n",
       "      <th>2</th>\n",
       "      <td>615522affd8729c049474af7</td>\n",
       "      <td>2017272108</td>\n",
       "      <td>2021-09-30T02:36:22.026958</td>\n",
       "      <td>2021-09-22T05:44:10Z</td>\n",
       "      <td>2021-09-27T07:59:22.48Z</td>\n",
       "      <td>privateTreaty</td>\n",
       "      <td>buy</td>\n",
       "      <td>$1,350,000 - $1,400,000</td>\n",
       "      <td>1350000.0</td>\n",
       "      <td>1400000.0</td>\n",
       "      <td>...</td>\n",
       "      <td>3</td>\n",
       "      <td>2</td>\n",
       "      <td>INSPECTIONS STRICTLY BY PRIVATE APPOINTMENT ON...</td>\n",
       "      <td>Rare Family Find on the Green</td>\n",
       "      <td>False</td>\n",
       "      <td>house</td>\n",
       "      <td>533.0</td>\n",
       "      <td>agency</td>\n",
       "      <td>4316</td>\n",
       "      <td>NaN</td>\n",
       "    </tr>\n",
       "    <tr>\n",
       "      <th>3</th>\n",
       "      <td>61552e7fa61be1df526af669</td>\n",
       "      <td>2017287671</td>\n",
       "      <td>2021-09-30T03:26:54.873732</td>\n",
       "      <td>2021-09-29T05:46:33Z</td>\n",
       "      <td>2021-09-29T06:09:44.577Z</td>\n",
       "      <td>auction</td>\n",
       "      <td>buy</td>\n",
       "      <td>$550,000 - $590000</td>\n",
       "      <td>550000.0</td>\n",
       "      <td>590000.0</td>\n",
       "      <td>...</td>\n",
       "      <td>2</td>\n",
       "      <td>1</td>\n",
       "      <td>INSPECTIONS BY APPOINTMENT - CONTACT AGENT\\r\\n...</td>\n",
       "      <td>PEACEFUL REAR POSITION</td>\n",
       "      <td>False</td>\n",
       "      <td>apartmentUnitFlat</td>\n",
       "      <td>NaN</td>\n",
       "      <td>agency</td>\n",
       "      <td>3918</td>\n",
       "      <td>NaN</td>\n",
       "    </tr>\n",
       "    <tr>\n",
       "      <th>4</th>\n",
       "      <td>61552e7fa61be1df526af66b</td>\n",
       "      <td>2017286716</td>\n",
       "      <td>2021-09-30T03:26:55.054060</td>\n",
       "      <td>2021-09-29T03:13:40Z</td>\n",
       "      <td>2021-09-29T06:33:11.397Z</td>\n",
       "      <td>privateTreaty</td>\n",
       "      <td>buy</td>\n",
       "      <td>$600,000 - $650,000</td>\n",
       "      <td>600000.0</td>\n",
       "      <td>650000.0</td>\n",
       "      <td>...</td>\n",
       "      <td>2</td>\n",
       "      <td>2</td>\n",
       "      <td>OFFERS CLOSING MONDAY 18TH OCTOBER AT 1PM\\r\\n\\...</td>\n",
       "      <td>Parkside Alfresco Entertainer!</td>\n",
       "      <td>False</td>\n",
       "      <td>townhouse</td>\n",
       "      <td>NaN</td>\n",
       "      <td>agency</td>\n",
       "      <td>3937</td>\n",
       "      <td>NaN</td>\n",
       "    </tr>\n",
       "  </tbody>\n",
       "</table>\n",
       "<p>5 rows × 32 columns</p>\n",
       "</div>"
      ],
      "text/plain": [
       "                        _id  listing_id                     created  \\\n",
       "0  6155208cfd8729c049474af5  2017278297  2021-09-30T02:26:12.895734   \n",
       "1  61552285fd8729c049474af6  2017273091  2021-09-30T02:35:31.331938   \n",
       "2  615522affd8729c049474af7  2017272108  2021-09-30T02:36:22.026958   \n",
       "3  61552e7fa61be1df526af669  2017287671  2021-09-30T03:26:54.873732   \n",
       "4  61552e7fa61be1df526af66b  2017286716  2021-09-30T03:26:55.054060   \n",
       "\n",
       "             dateListed               dateUpdated     saleMethod saleMode  \\\n",
       "0  2021-09-24T06:43:18Z    2021-09-27T22:29:18.3Z        auction      buy   \n",
       "1  2021-09-22T09:24:07Z   2021-09-22T09:24:07.58Z  privateTreaty      buy   \n",
       "2  2021-09-22T05:44:10Z   2021-09-27T07:59:22.48Z  privateTreaty      buy   \n",
       "3  2021-09-29T05:46:33Z  2021-09-29T06:09:44.577Z        auction      buy   \n",
       "4  2021-09-29T03:13:40Z  2021-09-29T06:33:11.397Z  privateTreaty      buy   \n",
       "\n",
       "              displayPrice  minimumPrice  maximumPrice  ... house_bedrooms  \\\n",
       "0    $950,000 - $1,050,000      950000.0     1050000.0  ...              3   \n",
       "1                 $580,000      580000.0      580000.0  ...              2   \n",
       "2  $1,350,000 - $1,400,000     1350000.0     1400000.0  ...              3   \n",
       "3       $550,000 - $590000      550000.0      590000.0  ...              2   \n",
       "4      $600,000 - $650,000      600000.0      650000.0  ...              2   \n",
       "\n",
       "  house_carspaces                                  house_description  \\\n",
       "0               2  OPEN FOR PRIVATE INSPECTION SAT 2ND OCTOBER - ...   \n",
       "1               1  Live with cafes at the door, a panoramic view ...   \n",
       "2               2  INSPECTIONS STRICTLY BY PRIVATE APPOINTMENT ON...   \n",
       "3               1  INSPECTIONS BY APPOINTMENT - CONTACT AGENT\\r\\n...   \n",
       "4               2  OFFERS CLOSING MONDAY 18TH OCTOBER AT 1PM\\r\\n\\...   \n",
       "\n",
       "                             house_headline house_isNewDevelopment  \\\n",
       "0              Enjoy, Invest, Best Of Both!                  False   \n",
       "1  Step Onto the Train, Step Up to the Roof                  False   \n",
       "2             Rare Family Find on the Green                  False   \n",
       "3                    PEACEFUL REAR POSITION                  False   \n",
       "4            Parkside Alfresco Entertainer!                  False   \n",
       "\n",
       "  house_propertyType house_landAreaSqm agent_advertiserType  \\\n",
       "0              house               NaN               agency   \n",
       "1  apartmentUnitFlat               NaN               agency   \n",
       "2              house             533.0               agency   \n",
       "3  apartmentUnitFlat               NaN               agency   \n",
       "4          townhouse               NaN               agency   \n",
       "\n",
       "  agent_advertiserId  location_unitNumber  \n",
       "0               5600                  NaN  \n",
       "1               3937                  NaN  \n",
       "2               4316                  NaN  \n",
       "3               3918                  NaN  \n",
       "4               3937                  NaN  \n",
       "\n",
       "[5 rows x 32 columns]"
      ]
     },
     "execution_count": 51,
     "metadata": {},
     "output_type": "execute_result"
    }
   ],
   "source": [
    "listings = pd.DataFrame(listings_raw)\n",
    "listings.head()"
   ]
  },
  {
   "cell_type": "markdown",
   "metadata": {},
   "source": [
    "## Investigate data types"
   ]
  },
  {
   "cell_type": "code",
   "execution_count": 52,
   "metadata": {},
   "outputs": [
    {
     "name": "stdout",
     "output_type": "stream",
     "text": [
      "<class 'pandas.core.frame.DataFrame'>\n",
      "RangeIndex: 597 entries, 0 to 596\n",
      "Data columns (total 32 columns):\n",
      " #   Column                        Non-Null Count  Dtype  \n",
      "---  ------                        --------------  -----  \n",
      " 0   _id                           597 non-null    object \n",
      " 1   listing_id                    597 non-null    int64  \n",
      " 2   created                       597 non-null    object \n",
      " 3   dateListed                    597 non-null    object \n",
      " 4   dateUpdated                   597 non-null    object \n",
      " 5   saleMethod                    597 non-null    object \n",
      " 6   saleMode                      597 non-null    object \n",
      " 7   displayPrice                  597 non-null    object \n",
      " 8   minimumPrice                  145 non-null    float64\n",
      " 9   maximumPrice                  145 non-null    float64\n",
      " 10  inspectionsByAppointmentOnly  591 non-null    object \n",
      " 11  url                           597 non-null    object \n",
      " 12  statementOfInformation        565 non-null    object \n",
      " 13  location_state                597 non-null    object \n",
      " 14  location_streetNumber         577 non-null    object \n",
      " 15  location_street               586 non-null    object \n",
      " 16  location_suburb               597 non-null    object \n",
      " 17  location_postcode             597 non-null    object \n",
      " 18  location_displayAddress       597 non-null    object \n",
      " 19  location_latitude             586 non-null    float64\n",
      " 20  location_longitude            586 non-null    float64\n",
      " 21  house_bathrooms               597 non-null    int64  \n",
      " 22  house_bedrooms                597 non-null    int64  \n",
      " 23  house_carspaces               597 non-null    int64  \n",
      " 24  house_description             597 non-null    object \n",
      " 25  house_headline                597 non-null    object \n",
      " 26  house_isNewDevelopment        597 non-null    bool   \n",
      " 27  house_propertyType            597 non-null    object \n",
      " 28  house_landAreaSqm             334 non-null    float64\n",
      " 29  agent_advertiserType          597 non-null    object \n",
      " 30  agent_advertiserId            597 non-null    int64  \n",
      " 31  location_unitNumber           21 non-null     object \n",
      "dtypes: bool(1), float64(5), int64(5), object(21)\n",
      "memory usage: 145.3+ KB\n"
     ]
    }
   ],
   "source": [
    "listings.info()"
   ]
  },
  {
   "cell_type": "markdown",
   "metadata": {},
   "source": [
    "## Fix data types"
   ]
  },
  {
   "cell_type": "markdown",
   "metadata": {},
   "source": [
    "### Date Features"
   ]
  },
  {
   "cell_type": "code",
   "execution_count": 53,
   "metadata": {},
   "outputs": [],
   "source": [
    "listings.created = pd.to_datetime(listings.created)\n",
    "listings.dateListed = pd.to_datetime(listings.dateListed)\n",
    "listings.dateUpdated = pd.to_datetime(listings.dateUpdated)"
   ]
  },
  {
   "cell_type": "markdown",
   "metadata": {},
   "source": [
    "### Factor Features"
   ]
  },
  {
   "cell_type": "code",
   "execution_count": 54,
   "metadata": {},
   "outputs": [],
   "source": [
    "listings.saleMethod = listings.saleMethod.astype('category')\n",
    "listings.saleMode = listings.saleMode.astype('category')\n",
    "listings.location_state = listings.location_state.astype('category')\n",
    "listings.location_street = listings.location_street.astype('category')\n",
    "listings.location_suburb = listings.location_suburb.astype('category')\n",
    "listings.location_postcode = listings.location_postcode.astype('category')\n",
    "listings.house_propertyType = listings.house_propertyType.astype('category')\n",
    "listings.agent_advertiserType = listings.agent_advertiserType.astype('category')\n",
    "listings.agent_advertiserId = listings.agent_advertiserId.astype('category')"
   ]
  },
  {
   "cell_type": "markdown",
   "metadata": {},
   "source": [
    "### Bool Features"
   ]
  },
  {
   "cell_type": "code",
   "execution_count": 55,
   "metadata": {},
   "outputs": [],
   "source": [
    "listings.inspectionsByAppointmentOnly = listings.inspectionsByAppointmentOnly.astype('bool')"
   ]
  },
  {
   "cell_type": "markdown",
   "metadata": {},
   "source": [
    "### Other Features\n",
    "- Street number has yet to be handled. It can be used to extract unit numbers from some of these. In addition, how to handle lettered street numbers is yet to be determined. Ideally the value would be ordinal.\n",
    "    - Display Address could also be used to help these values"
   ]
  },
  {
   "cell_type": "markdown",
   "metadata": {},
   "source": [
    "## Fix Column Names\n",
    "Some of the column names have uneeded text in them"
   ]
  },
  {
   "cell_type": "code",
   "execution_count": 56,
   "metadata": {},
   "outputs": [],
   "source": [
    "listings.rename(columns={\n",
    "    'inspectionsByAppointmentOnly': 'isInspectionsByAppointmentOnly',\n",
    "    'location_state': 'state',\n",
    "    'location_streetNumber': 'streetNumber',\n",
    "    'location_street':'street',\n",
    "    'location_suburb':'suburb',\n",
    "    'location_postcode':'postcode',\n",
    "    'location_displayAddress':'displayAddress',\n",
    "    'location_latitude':'latitude',\n",
    "    'location_longitude':'longitude',\n",
    "    'location_unitNumber': 'unitNumber',\n",
    "    'house_bathrooms':'bathrooms',\n",
    "    'house_bedrooms':'bedrooms',\n",
    "    'house_carspaces':'carspaces',\n",
    "    'house_description':'description',\n",
    "    'house_headline':'headline',\n",
    "    'house_isNewDevelopment':'isNewDevelopment',\n",
    "    'house_propertyType': 'propertyType',\n",
    "    'house_landAreaSqm': 'landAreaSqm',\n",
    "    'agent_advertiserType': 'advertiserType',\n",
    "    'agent_advertiserId': 'advertiserId'\n",
    "}, inplace=True)"
   ]
  },
  {
   "cell_type": "markdown",
   "metadata": {},
   "source": [
    "## Extract Min & Max Prices from Display Price\n",
    "\n",
    "Some of the display prices have a minimum and maximum value in it but that hasn't been properly extracted during the original upload. \n",
    "\n",
    "> The work done here will improve future uploads but doesn't help to fix existing uploads"
   ]
  },
  {
   "cell_type": "code",
   "execution_count": 57,
   "metadata": {},
   "outputs": [],
   "source": [
    "# Get a subset with all the listings without a mini or max price to investigate the various display prices\n",
    "listing_wo_min_max_mask = listings.minimumPrice.isna() | listings.maximumPrice.isna()\n",
    "listing_wo_min_max = listings[listing_wo_min_max_mask].copy()"
   ]
  },
  {
   "cell_type": "markdown",
   "metadata": {},
   "source": [
    "Okay so there's a few possible scenarios:\n",
    "1. Displays only range from min to max (e.g $100,000 - $150,000)\n",
    "   1. We already have a function to handle this. Possibly older listings where this function did not exist or did not work properly\n",
    "2. Auction / Contact Agent\n",
    "   1. These values don't display any value can the min/max price will have to be obtained through alternative measures\n",
    "3. Range with other text\n",
    "   1. The function doesn't currently handle other text very well so these are prime scenarios to work out how to handle now. \n",
    "4. Other text\n",
    "   1. Veyr possible that there could be some other plain text that doesn't convert to min/max prices. Again alternative solutions will need to be used"
   ]
  },
  {
   "cell_type": "markdown",
   "metadata": {},
   "source": [
    "Before going too far lets quickly check the count of listings that are missing a min/max value. This will be a good measure to see how we progress."
   ]
  },
  {
   "cell_type": "code",
   "execution_count": 58,
   "metadata": {},
   "outputs": [
    {
     "name": "stdout",
     "output_type": "stream",
     "text": [
      "Count of listings without a Minimum or Maximum price: 452\n"
     ]
    }
   ],
   "source": [
    "print(f\"Count of listings without a Minimum or Maximum price: {listing_wo_min_max.displayPrice.count()}\")"
   ]
  },
  {
   "cell_type": "markdown",
   "metadata": {},
   "source": [
    "### Range Display Prices\n",
    "\n",
    "For these we can import the existing `get_minimum` and `get_maximum` functions from the wrangler module"
   ]
  },
  {
   "cell_type": "code",
   "execution_count": 59,
   "metadata": {},
   "outputs": [],
   "source": [
    "from DomainAnalysis.wrangler import get_min_max_price_from_display_price\n",
    "from DomainAnalysis.logger import logger\n",
    "logger.disabled = True\n",
    "def get_min_max(displayPrice):\n",
    "    \"\"\"Used to ignore errors as they're intended for the ETL process\"\"\"\n",
    "    try:\n",
    "        return get_min_max_price_from_display_price(displayPrice)\n",
    "    except Exception as e:\n",
    "        return\n",
    "    \n",
    "prices = listing_wo_min_max.displayPrice.apply(get_min_max).dropna()"
   ]
  },
  {
   "cell_type": "markdown",
   "metadata": {},
   "source": [
    "During testing the output showed some prices that were clearly wrong. For example one was (1, 11), which I wish I could buy a house for a tenner but obviously not true. Investigating that particular listing revealed that the display price was a string of text reading: `Offers Closing Monday 11th October at 1pm`. We will add in a basic check on the minimum price to remove these but this should be looked into for the ETL script as currently this would pass and create outliers in the dataset. "
   ]
  },
  {
   "cell_type": "code",
   "execution_count": 60,
   "metadata": {},
   "outputs": [
    {
     "data": {
      "text/plain": [
       "65     (1250000, 1350000)\n",
       "72      (940000, 1020000)\n",
       "73       (900000, 990000)\n",
       "74      (990000, 1050000)\n",
       "75       (680000, 740000)\n",
       "              ...        \n",
       "515      (900000, 950000)\n",
       "517      (889000, 959000)\n",
       "518      (300000, 330000)\n",
       "519      (920000, 980000)\n",
       "520      (930000, 970000)\n",
       "Name: displayPrice, Length: 267, dtype: object"
      ]
     },
     "execution_count": 60,
     "metadata": {},
     "output_type": "execute_result"
    }
   ],
   "source": [
    "prices = prices[prices.apply(lambda x: x[0] > 100)]\n",
    "prices"
   ]
  },
  {
   "cell_type": "markdown",
   "metadata": {},
   "source": [
    "Perfect! Let's apply this to the relative records in the database."
   ]
  },
  {
   "cell_type": "code",
   "execution_count": 61,
   "metadata": {},
   "outputs": [],
   "source": [
    "for idx in prices.index:\n",
    "    listings.loc[idx, 'minimumPrice'] = prices[idx][0]\n",
    "    listings.loc[idx, 'maximumPrice'] = prices[idx][0]"
   ]
  },
  {
   "cell_type": "markdown",
   "metadata": {},
   "source": [
    "Make sure we made some improvements"
   ]
  },
  {
   "cell_type": "code",
   "execution_count": 62,
   "metadata": {},
   "outputs": [
    {
     "name": "stdout",
     "output_type": "stream",
     "text": [
      "Count of listings without a Minimum or Maximum price: 185\n"
     ]
    }
   ],
   "source": [
    "listing_wo_min_max_mask = listings.minimumPrice.isna() | listings.maximumPrice.isna()\n",
    "listing_wo_min_max = listings[listing_wo_min_max_mask].copy()\n",
    "print(f\"Count of listings without a Minimum or Maximum price: {listing_wo_min_max.displayPrice.count()}\")"
   ]
  },
  {
   "cell_type": "markdown",
   "metadata": {},
   "source": [
    "Noice! Heaps better. Okay let's tackle the trickier ones. It's going to be a bit hard to locate them programatically, so I think the best way will be to work backwards by printing all the faulty display prices and find patterns that way. \n",
    "\n",
    "> If running this notebook at a later time with substantially more listings in the database it might be better to not run this next code block and hope I did a good job with the patterns :) Or add to them whatevs.."
   ]
  },
  {
   "cell_type": "code",
   "execution_count": 63,
   "metadata": {},
   "outputs": [
    {
     "name": "stdout",
     "output_type": "stream",
     "text": [
      "Index: 62, Display Price: CLOSING DATE SALE - Tuesday 19th Oct @ 2pm\n",
      "Index: 63, Display Price: Contact Agent\n",
      "Index: 64, Display Price: Offers Closing Monday 11th October at 1pm\n",
      "Index: 66, Display Price: $1,200,000$1,300,000 ONLINE AUCT WED 6/10 5PM\n",
      "Index: 67, Display Price: Contact Agent\n",
      "Index: 68, Display Price: UNDER CONTRACT\n",
      "Index: 69, Display Price: UNDER CONTRACT\n",
      "Index: 70, Display Price: Online auction this Saturday at 12:00pm!\n",
      "Index: 71, Display Price: Under Offer\n",
      "Index: 79, Display Price: UNDER OFFER\n",
      "Index: 80, Display Price: Forthcoming Auction\n",
      "Index: 83, Display Price: DIGITAL ONLINE AUCTION THIS SATURDAY AT 11AM\n",
      "Index: 84, Display Price: $1,065,000\n",
      "Index: 85, Display Price: Contact Agent\n",
      "Index: 86, Display Price: Contact Agent\n",
      "Index: 89, Display Price: $395,000\n",
      "Index: 90, Display Price: Contact Agent.\n",
      "Index: 91, Display Price: Contact agent\n",
      "Index: 92, Display Price: Contact Agent\n",
      "Index: 93, Display Price: Sale | $1,600,000\n",
      "Index: 94, Display Price: Auction Sat 16th Oct at 11 AM\n",
      "Index: 95, Display Price: $975,000\n",
      "Index: 96, Display Price: $1,150,000\n",
      "Index: 97, Display Price: CONTACT AGENT\n",
      "Index: 98, Display Price: $850,000\n",
      "Index: 99, Display Price: Forthcoming Auction $960,000  $1,050,000\n",
      "Index: 100, Display Price: Forthcoming Auction\n",
      "Index: 101, Display Price: Contact Agent\n",
      "Index: 122, Display Price: Contact Agent\n",
      "Index: 124, Display Price: Contact Agent\n",
      "Index: 132, Display Price: Auction Sat 30th Oct 12:30pm - $900,000 - $960,000\n",
      "Index: 154, Display Price: Contact Agent\n",
      "Index: 155, Display Price: AUCTION\n",
      "Index: 157, Display Price: AUCTION\n",
      "Index: 158, Display Price: Contact Agent\n",
      "Index: 160, Display Price: Contact Agent\n",
      "Index: 164, Display Price: Contact Agent\n",
      "Index: 166, Display Price: AUCTION - CONTACT AGENT\n",
      "Index: 167, Display Price: AUCTION\n",
      "Index: 168, Display Price: AUCTION\n",
      "Index: 169, Display Price: AUCTION\n",
      "Index: 170, Display Price: Auction - Sat 13th Nov @ 2:00pm\n",
      "Index: 171, Display Price: Auction - Sat 6th Nov @ 11:00am\n",
      "Index: 173, Display Price: AUCTION\n",
      "Index: 174, Display Price: AUCTION - UNITS 1 & 2\n",
      "Index: 175, Display Price: AUCTION\n",
      "Index: 177, Display Price: Auction - Sat 13th Nov @ 11:00am\n",
      "Index: 178, Display Price: EOI closing 19 Nov. 2021\n",
      "Index: 180, Display Price: UNDER CONTRACT\n",
      "Index: 181, Display Price: AUCTION\n",
      "Index: 184, Display Price: CONTACT AGENT\n",
      "Index: 185, Display Price: Contact Agent\n",
      "Index: 189, Display Price: Contact Agent\n",
      "Index: 190, Display Price: $899,000 – $969,000\n",
      "Index: 191, Display Price: $3,950,000\n",
      "Index: 193, Display Price: Motivated Vendor Say sell Now,\n",
      "Index: 197, Display Price: Contact Agent\n",
      "Index: 203, Display Price: Expressions Of Interest\n",
      "Index: 204, Display Price: $725,000     Private inspections welcome\n",
      "Index: 205, Display Price: Price on Application\n",
      "Index: 208, Display Price: $3,100,000   Private inspections welcome\n",
      "Index: 211, Display Price: Contact Agent\n",
      "Index: 212, Display Price: Contact Agent\n",
      "Index: 214, Display Price: Contact Agent\n",
      "Index: 215, Display Price: Contact Agent\n",
      "Index: 216, Display Price: Contact Agent\n",
      "Index: 217, Display Price: Auction - $870,000 - $890,000\n",
      "Index: 218, Display Price: Private Sale - $969,000 - $999,000\n",
      "Index: 221, Display Price: Auction\n",
      "Index: 222, Display Price: Contact Agent\n",
      "Index: 223, Display Price: Contact Agent\n",
      "Index: 224, Display Price: Private Sale - $1,050,000 - $1,100,000\n",
      "Index: 225, Display Price: Private Sale - $795,000 - $835,000\n",
      "Index: 226, Display Price: Auction - $680,000 - $700,000\n",
      "Index: 228, Display Price: Contact Agent\n",
      "Index: 229, Display Price: Private Sale - $850,000 - $900,000\n",
      "Index: 230, Display Price: Auction\n",
      "Index: 231, Display Price: Contact Agent\n",
      "Index: 232, Display Price: Private Sale - $765,000 - $795,000\n",
      "Index: 238, Display Price: Private Sale - $680,000 - $700,000\n",
      "Index: 239, Display Price: Contact Agent\n",
      "Index: 241, Display Price: Contact Agent\n",
      "Index: 246, Display Price: Auction\n",
      "Index: 248, Display Price: Contact Agent\n",
      "Index: 249, Display Price: Contact Agent\n",
      "Index: 253, Display Price: Contact Agent\n",
      "Index: 257, Display Price: $799,000\n",
      "Index: 259, Display Price: $1,350,000\n",
      "Index: 260, Display Price: $799,000\n",
      "Index: 261, Display Price: $2,990,000\n",
      "Index: 263, Display Price: $1,530,000\n",
      "Index: 264, Display Price: For Sale - Contact agent\n",
      "Index: 265, Display Price: Contact Agent\n",
      "Index: 266, Display Price: Contact Agent\n",
      "Index: 267, Display Price: Auction\n",
      "Index: 273, Display Price: $1,200,000\n",
      "Index: 274, Display Price: CONTACT AGENT - EOI - MONDAY 15/11/2021 @ 5pm\n",
      "Index: 276, Display Price: Auction\n",
      "Index: 280, Display Price: Auction\n",
      "Index: 281, Display Price: $1,050,000\n",
      "Index: 282, Display Price: Current Offer $550,000\n",
      "Index: 288, Display Price: Auction\n",
      "Index: 292, Display Price: $735,000\n",
      "Index: 297, Display Price: $250,000\n",
      "Index: 304, Display Price: $780,000\n",
      "Index: 305, Display Price: $785,000\n",
      "Index: 307, Display Price: Expressions of Interest\n",
      "Index: 309, Display Price: 1.3M-1.4M\n",
      "Index: 312, Display Price: EXPRESSIONS OF INTEREST\n",
      "Index: 313, Display Price: AUCTION - EPR $1,475,000 - $1,525,000\n",
      "Index: 314, Display Price: Expressions of Interest\n",
      "Index: 319, Display Price: Auction\n",
      "Index: 321, Display Price: AUCTION - EPR $950,000 - $975,000 EACH\n",
      "Index: 322, Display Price: Forthcoming Auction\n",
      "Index: 323, Display Price: Quoting $1,750,000\n",
      "Index: 328, Display Price: Auction - Sat 30th Oct @ 11:00am\n",
      "Index: 329, Display Price: Auction\n",
      "Index: 336, Display Price: AUCTION - EPR $1,050,000 - $1,100,000\n",
      "Index: 344, Display Price: Auction\n",
      "Index: 349, Display Price: Expressions Of Interest\n",
      "Index: 351, Display Price: $510,000\n",
      "Index: 352, Display Price: Quoting $1,400,000\n",
      "Index: 361, Display Price: UNDER CONTRACT\n",
      "Index: 371, Display Price: Quoting $2,500,000\n",
      "Index: 392, Display Price: $620,000\n",
      "Index: 394, Display Price: $510,000\n",
      "Index: 395, Display Price: $180,000\n",
      "Index: 398, Display Price: Build your new home with Simonds\n",
      "Index: 399, Display Price: Build your new home with Simonds\n",
      "Index: 402, Display Price: Contact Agent\n",
      "Index: 410, Display Price: Contact Agent\n",
      "Index: 413, Display Price: Auction Postponed - Contact Agent\n",
      "Index: 416, Display Price: $699,000\n",
      "Index: 418, Display Price: Contact Agent\n",
      "Index: 420, Display Price: Contact Agent\n",
      "Index: 423, Display Price: 6 SOLD - 1 - 3BED REMAINING - PRICE ON REQUEST\n",
      "Index: 424, Display Price: Contact Agent\n",
      "Index: 427, Display Price: Contact Agent\n",
      "Index: 435, Display Price: $2.4M - $2.6M\n",
      "Index: 436, Display Price: $5,950,000\n",
      "Index: 440, Display Price: EOI - EPR $2,700,000 - $2,900,000\n",
      "Index: 460, Display Price: $450,000\n",
      "Index: 464, Display Price: $1,500,000\n",
      "Index: 465, Display Price: Contact Agent\n",
      "Index: 468, Display Price: Auction- Contact Agent\n",
      "Index: 470, Display Price: Auction\n",
      "Index: 473, Display Price: Forthcoming Sale\n",
      "Index: 479, Display Price: by Expression of Interest\n",
      "Index: 482, Display Price: Expressions of Interest\n",
      "Index: 485, Display Price: Contact Agent\n",
      "Index: 486, Display Price: Contact Agent\n",
      "Index: 488, Display Price: Quoting $1,245,000\n",
      "Index: 489, Display Price: Quoting $1,900,000\n",
      "Index: 491, Display Price: Quoting $3,000,000\n",
      "Index: 492, Display Price: Quoting $2,250,000\n",
      "Index: 493, Display Price: 1.4M - 1.5M\n",
      "Index: 495, Display Price: $1,295,000   Private inspections welcome\n",
      "Index: 496, Display Price: Contact agent\n",
      "Index: 500, Display Price: Contact Agent\n",
      "Index: 501, Display Price: $1,350,000\n",
      "Index: 502, Display Price: Auction | Saturday 20th November at 10.30am\n",
      "Index: 505, Display Price: Auction\n",
      "Index: 506, Display Price: Auction\n",
      "Index: 507, Display Price: $1,325,000\n",
      "Index: 509, Display Price: Auction unless sold prior\n",
      "Index: 511, Display Price: CONTACT AGENT - EOI - MONDAY 22/11/2021 @ 5pm\n",
      "Index: 512, Display Price: Auction - Sat 27th Nov @ 11:00am\n",
      "Index: 516, Display Price: Contact Agent\n",
      "Index: 531, Display Price: AUCTION\n",
      "Index: 533, Display Price: Expression of Interest by 29th November at 3.00pm\n",
      "Index: 541, Display Price: Contact agent for price\n",
      "Index: 542, Display Price: Contact agent for price\n",
      "Index: 544, Display Price: Contact agent for price\n",
      "Index: 545, Display Price: Contact agent for price\n",
      "Index: 549, Display Price: Contact Agent\n",
      "Index: 550, Display Price: Contact Agent\n",
      "Index: 551, Display Price: Contact Agent\n",
      "Index: 552, Display Price: AUCTION\n",
      "Index: 565, Display Price: Contact Agent\n",
      "Index: 571, Display Price: Contact Agent\n",
      "Index: 575, Display Price: Auction - Sat 27th Nov @ 1:00pm\n",
      "Index: 585, Display Price: Auction | Saturday 27th November 10.30am\n",
      "Index: 587, Display Price: Contact agent for price\n",
      "Index: 588, Display Price: Contact Agent\n",
      "Index: 594, Display Price: Auction Sat 20th Nov at 12.30PM\n"
     ]
    }
   ],
   "source": [
    "import re\n",
    "for idx, displayPrice in listing_wo_min_max.displayPrice.iteritems():\n",
    "    # Contact agent will never have a value neither if it just reads Auction\n",
    "    if 'contact agent' not in displayPrice.lower() or displayPrice.lower() != 'auction':\n",
    "        print(f\"Index: {idx}, Display Price: {displayPrice}\")"
   ]
  },
  {
   "cell_type": "markdown",
   "metadata": {},
   "source": [
    "Through this exercise another easy value was identified. A single price! \n",
    "\n",
    "We can also remove any `contact agent` values to simplify the list further\n",
    "\n",
    "Other Findings were exactly or went in the format of:\n",
    "- $1,200,000$1,300,000 ONLINE AUCT WED 6/10 5PM\n",
    "- Sale | $1,600,000\n",
    "- Forthcoming Auction $960,000  $1,050,000\n",
    "- Auction Sat 30th Oct 12:30pm - $900,000 - $960,000\n",
    "- $899,000 – $969,000 -> Didn't work previously apparently\n",
    "- $725,000     Private inspections welcome\n",
    "- $3,100,000   Private inspections welcome\n",
    "- [word] - $870,000 - $890,000\n",
    "- [word] [word] - $969,000 - $999,000\n",
    "- 1.3M-1.4M\n",
    "- AUCTION - EPR $1,475,000 - $1,525,000\n",
    "- AUCTION - EPR $950,000 - $975,000 EACH\n",
    "- Quoting $1,750,000\n",
    "- EOI - EPR $2,700,000 - $2,900,000\n",
    "\n",
    "In most circumstances the values are written in a _\"readable\"_ with the dollar sign and integers in groups of three. I think it will be best to use regex to match for the two values as this will cover a lot of these instances. \n",
    "\n",
    "We'll work that out first then revisit other values"
   ]
  },
  {
   "cell_type": "markdown",
   "metadata": {},
   "source": [
    "Okay I've got the regex to extract the two prices ([see here for testing](https://regex101.com/r/1VHp80/3)). \n",
    "\n",
    "Basically it matches a price then anything in between followed by another price. This regex assumes that the $XXX,XXX... format is being used but as can be seen above that is most of the cases :) \n",
    "\n",
    "```regex\n",
    "(?:(\\$(?:\\d{1,3},)+\\d{1,3}).*(\\$(?:\\d{1,3},)+\\d{1,3}))\n",
    "```"
   ]
  },
  {
   "cell_type": "code",
   "execution_count": 71,
   "metadata": {},
   "outputs": [],
   "source": [
    "prices = listing_wo_min_max.displayPrice.apply(lambda x: re.search(r'.*(\\$(?:\\d{1,3},)+\\d{1,3}).*(\\$(?:\\d{1,3},)+\\d{1,3})', x)).dropna()\n",
    "clean_price = lambda x: x.replace(\"$\",\"\").replace(\",\",\"\")\n",
    "for idx in prices.index:\n",
    "    listings.loc[idx, 'minimumPrice'] = clean_price(prices[idx].group(1))\n",
    "    listings.loc[idx, 'maximumPrice'] = clean_price(prices[idx].group(2))"
   ]
  },
  {
   "cell_type": "code",
   "execution_count": 72,
   "metadata": {},
   "outputs": [
    {
     "data": {
      "text/plain": [
       "'$1,600,000'"
      ]
     },
     "execution_count": 72,
     "metadata": {},
     "output_type": "execute_result"
    }
   ],
   "source": [
    "prices = listing_wo_min_max.displayPrice.apply(lambda x: re.search(r'.*(\\$(?:\\d{1,3},)+\\d{1,3}).*(\\$(?:\\d{1,3},)+\\d{1,3})', x)).dropna()\n",
    "prices = listing_wo_min_max.displayPrice.apply(lambda x: re.search(r'.*(\\$(?:\\d{1,3},)+\\d{1,3})', x)).dropna()\n",
    "prices[93].group(1)"
   ]
  },
  {
   "cell_type": "markdown",
   "metadata": {},
   "source": [
    "Not let's handle the single values as well"
   ]
  },
  {
   "cell_type": "code",
   "execution_count": 73,
   "metadata": {},
   "outputs": [],
   "source": [
    "prices = listing_wo_min_max.displayPrice.apply(lambda x: re.search(r'.*(\\$(?:\\d{1,3},)+\\d{1,3})', x)).dropna()\n",
    "for idx in prices.index:\n",
    "    listings.loc[idx, 'minimumPrice'] = clean_price(prices[idx].group(1))\n",
    "    listings.loc[idx, 'maximumPrice'] = clean_price(prices[idx].group(1))"
   ]
  },
  {
   "cell_type": "code",
   "execution_count": 74,
   "metadata": {},
   "outputs": [
    {
     "name": "stdout",
     "output_type": "stream",
     "text": [
      "Count of listings without a Minimum or Maximum price: 130\n"
     ]
    }
   ],
   "source": [
    "listing_wo_min_max_mask = listings.minimumPrice.isna() | listings.maximumPrice.isna()\n",
    "listing_wo_min_max = listings[listing_wo_min_max_mask].copy()\n",
    "print(f\"Count of listings without a Minimum or Maximum price: {listing_wo_min_max.displayPrice.count()}\")"
   ]
  },
  {
   "cell_type": "markdown",
   "metadata": {},
   "source": [
    "Awesome down to 135. We've fixed 298 records. That's a pretty good effort! \n",
    "\n",
    "Let's do a manual check over the remaining prices and see if we can visually see another other prices still that are extractable. "
   ]
  },
  {
   "cell_type": "code",
   "execution_count": 75,
   "metadata": {},
   "outputs": [
    {
     "name": "stdout",
     "output_type": "stream",
     "text": [
      "Index: 62, Display Price: CLOSING DATE SALE - Tuesday 19th Oct @ 2pm\n",
      "Index: 63, Display Price: Contact Agent\n",
      "Index: 64, Display Price: Offers Closing Monday 11th October at 1pm\n",
      "Index: 67, Display Price: Contact Agent\n",
      "Index: 68, Display Price: UNDER CONTRACT\n",
      "Index: 69, Display Price: UNDER CONTRACT\n",
      "Index: 70, Display Price: Online auction this Saturday at 12:00pm!\n",
      "Index: 71, Display Price: Under Offer\n",
      "Index: 79, Display Price: UNDER OFFER\n",
      "Index: 80, Display Price: Forthcoming Auction\n",
      "Index: 83, Display Price: DIGITAL ONLINE AUCTION THIS SATURDAY AT 11AM\n",
      "Index: 85, Display Price: Contact Agent\n",
      "Index: 86, Display Price: Contact Agent\n",
      "Index: 90, Display Price: Contact Agent.\n",
      "Index: 91, Display Price: Contact agent\n",
      "Index: 92, Display Price: Contact Agent\n",
      "Index: 94, Display Price: Auction Sat 16th Oct at 11 AM\n",
      "Index: 97, Display Price: CONTACT AGENT\n",
      "Index: 100, Display Price: Forthcoming Auction\n",
      "Index: 101, Display Price: Contact Agent\n",
      "Index: 122, Display Price: Contact Agent\n",
      "Index: 124, Display Price: Contact Agent\n",
      "Index: 154, Display Price: Contact Agent\n",
      "Index: 155, Display Price: AUCTION\n",
      "Index: 157, Display Price: AUCTION\n",
      "Index: 158, Display Price: Contact Agent\n",
      "Index: 160, Display Price: Contact Agent\n",
      "Index: 164, Display Price: Contact Agent\n",
      "Index: 166, Display Price: AUCTION - CONTACT AGENT\n",
      "Index: 167, Display Price: AUCTION\n",
      "Index: 168, Display Price: AUCTION\n",
      "Index: 169, Display Price: AUCTION\n",
      "Index: 170, Display Price: Auction - Sat 13th Nov @ 2:00pm\n",
      "Index: 171, Display Price: Auction - Sat 6th Nov @ 11:00am\n",
      "Index: 173, Display Price: AUCTION\n",
      "Index: 174, Display Price: AUCTION - UNITS 1 & 2\n",
      "Index: 175, Display Price: AUCTION\n",
      "Index: 177, Display Price: Auction - Sat 13th Nov @ 11:00am\n",
      "Index: 178, Display Price: EOI closing 19 Nov. 2021\n",
      "Index: 180, Display Price: UNDER CONTRACT\n",
      "Index: 181, Display Price: AUCTION\n",
      "Index: 184, Display Price: CONTACT AGENT\n",
      "Index: 185, Display Price: Contact Agent\n",
      "Index: 189, Display Price: Contact Agent\n",
      "Index: 193, Display Price: Motivated Vendor Say sell Now,\n",
      "Index: 197, Display Price: Contact Agent\n",
      "Index: 203, Display Price: Expressions Of Interest\n",
      "Index: 205, Display Price: Price on Application\n",
      "Index: 211, Display Price: Contact Agent\n",
      "Index: 212, Display Price: Contact Agent\n",
      "Index: 214, Display Price: Contact Agent\n",
      "Index: 215, Display Price: Contact Agent\n",
      "Index: 216, Display Price: Contact Agent\n",
      "Index: 221, Display Price: Auction\n",
      "Index: 222, Display Price: Contact Agent\n",
      "Index: 223, Display Price: Contact Agent\n",
      "Index: 228, Display Price: Contact Agent\n",
      "Index: 230, Display Price: Auction\n",
      "Index: 231, Display Price: Contact Agent\n",
      "Index: 239, Display Price: Contact Agent\n",
      "Index: 241, Display Price: Contact Agent\n",
      "Index: 246, Display Price: Auction\n",
      "Index: 248, Display Price: Contact Agent\n",
      "Index: 249, Display Price: Contact Agent\n",
      "Index: 253, Display Price: Contact Agent\n",
      "Index: 264, Display Price: For Sale - Contact agent\n",
      "Index: 265, Display Price: Contact Agent\n",
      "Index: 266, Display Price: Contact Agent\n",
      "Index: 267, Display Price: Auction\n",
      "Index: 274, Display Price: CONTACT AGENT - EOI - MONDAY 15/11/2021 @ 5pm\n",
      "Index: 276, Display Price: Auction\n",
      "Index: 280, Display Price: Auction\n",
      "Index: 288, Display Price: Auction\n",
      "Index: 307, Display Price: Expressions of Interest\n",
      "Index: 309, Display Price: 1.3M-1.4M\n",
      "Index: 312, Display Price: EXPRESSIONS OF INTEREST\n",
      "Index: 314, Display Price: Expressions of Interest\n",
      "Index: 319, Display Price: Auction\n",
      "Index: 322, Display Price: Forthcoming Auction\n",
      "Index: 328, Display Price: Auction - Sat 30th Oct @ 11:00am\n",
      "Index: 329, Display Price: Auction\n",
      "Index: 344, Display Price: Auction\n",
      "Index: 349, Display Price: Expressions Of Interest\n",
      "Index: 361, Display Price: UNDER CONTRACT\n",
      "Index: 398, Display Price: Build your new home with Simonds\n",
      "Index: 399, Display Price: Build your new home with Simonds\n",
      "Index: 402, Display Price: Contact Agent\n",
      "Index: 410, Display Price: Contact Agent\n",
      "Index: 413, Display Price: Auction Postponed - Contact Agent\n",
      "Index: 418, Display Price: Contact Agent\n",
      "Index: 420, Display Price: Contact Agent\n",
      "Index: 423, Display Price: 6 SOLD - 1 - 3BED REMAINING - PRICE ON REQUEST\n",
      "Index: 424, Display Price: Contact Agent\n",
      "Index: 427, Display Price: Contact Agent\n",
      "Index: 435, Display Price: $2.4M - $2.6M\n",
      "Index: 465, Display Price: Contact Agent\n",
      "Index: 468, Display Price: Auction- Contact Agent\n",
      "Index: 470, Display Price: Auction\n",
      "Index: 473, Display Price: Forthcoming Sale\n",
      "Index: 479, Display Price: by Expression of Interest\n",
      "Index: 482, Display Price: Expressions of Interest\n",
      "Index: 485, Display Price: Contact Agent\n",
      "Index: 486, Display Price: Contact Agent\n",
      "Index: 493, Display Price: 1.4M - 1.5M\n",
      "Index: 496, Display Price: Contact agent\n",
      "Index: 500, Display Price: Contact Agent\n",
      "Index: 502, Display Price: Auction | Saturday 20th November at 10.30am\n",
      "Index: 505, Display Price: Auction\n",
      "Index: 506, Display Price: Auction\n",
      "Index: 509, Display Price: Auction unless sold prior\n",
      "Index: 511, Display Price: CONTACT AGENT - EOI - MONDAY 22/11/2021 @ 5pm\n",
      "Index: 512, Display Price: Auction - Sat 27th Nov @ 11:00am\n",
      "Index: 516, Display Price: Contact Agent\n",
      "Index: 531, Display Price: AUCTION\n",
      "Index: 533, Display Price: Expression of Interest by 29th November at 3.00pm\n",
      "Index: 541, Display Price: Contact agent for price\n",
      "Index: 542, Display Price: Contact agent for price\n",
      "Index: 544, Display Price: Contact agent for price\n",
      "Index: 545, Display Price: Contact agent for price\n",
      "Index: 549, Display Price: Contact Agent\n",
      "Index: 550, Display Price: Contact Agent\n",
      "Index: 551, Display Price: Contact Agent\n",
      "Index: 552, Display Price: AUCTION\n",
      "Index: 565, Display Price: Contact Agent\n",
      "Index: 571, Display Price: Contact Agent\n",
      "Index: 575, Display Price: Auction - Sat 27th Nov @ 1:00pm\n",
      "Index: 585, Display Price: Auction | Saturday 27th November 10.30am\n",
      "Index: 587, Display Price: Contact agent for price\n",
      "Index: 588, Display Price: Contact Agent\n",
      "Index: 594, Display Price: Auction Sat 20th Nov at 12.30PM\n"
     ]
    }
   ],
   "source": [
    "for idx, displayPrice in listing_wo_min_max.displayPrice.iteritems():\n",
    "    # Contact agent will never have a value neither if it just reads Auction\n",
    "    if 'contact agent' not in displayPrice.lower() or displayPrice.lower() != 'auction':\n",
    "        print(f\"Index: {idx}, Display Price: {displayPrice}\")"
   ]
  },
  {
   "cell_type": "markdown",
   "metadata": {},
   "source": [
    "Okay so the single run through missed some:\n",
    "- Sale | $1,600,000\n",
    "- Current Offer $550,000\n",
    "- Quoting $1,750,000\n",
    "\n",
    "It's possible the regex used above didn't like it with the text above. I just copied it and pasted it from my double one and didn't test thoroughly. My tests on regex101 didn't quite carry over for the Python implementation. Adding `.*` to the front fixed it up. _This has been edited above._ \n",
    "\n",
    "We've also got to handle these instances:\n",
    "- 1.3M-1.4M"
   ]
  },
  {
   "cell_type": "code",
   "execution_count": 76,
   "metadata": {},
   "outputs": [],
   "source": [
    "def fix_short_price(displayPrice):\n",
    "    \"\"\"Takes a display price that has a shortened format (E.G: 2.4M - 2.6M) and extracts the minimum and maximum value as a regular value (2400000)\n",
    "\n",
    "    Args:\n",
    "        displayPrice (str): displayPrice of the listing\n",
    "\n",
    "    Returns:\n",
    "        tuple: minimumPrice in the first element and the maximumPrice is in the second\n",
    "    \"\"\"\n",
    "    pattern = r'.*((?:\\d.\\d{1,2}M)|(?:\\d{1,3}K)).*((?:\\d.\\d{1,2}M)|(?:\\d{1,3}K))'\n",
    "    prices = re.match(pattern, displayPrice)\n",
    "    \n",
    "    fix_millions = lambda displayPrice: float(displayPrice.lower().replace(\"m\", \"\")) * 1000000\n",
    "    fix_thousands = lambda displayPrice: float(displayPrice.lower().replace(\"k\", \"\")) * 1000\n",
    "    is_millions = lambda displayPrice: True if 'm' in displayPrice.lower() else False\n",
    "    \n",
    "    return (\n",
    "        fix_millions(prices[1]) if is_millions else fix_thousands(prices[1]),\n",
    "        fix_millions(prices[2]) if is_millions else fix_thousands(prices[2])\n",
    "    )\n",
    "    \n",
    "# Filter list for the records that need this transformation\n",
    "pattern = r'.*((?:\\d.\\d{1,2}M)|(?:\\d{1,3}K)).*((?:\\d.\\d{1,2}M)|(?:\\d{1,3}K))'\n",
    "prices_mask = listing_wo_min_max.displayPrice.apply(lambda x: re.match(pattern, x)).notna()\n",
    "# Apply transforamtion\n",
    "prices = listing_wo_min_max[prices_mask].displayPrice.apply(fix_short_price)\n",
    "for idx in prices.index:\n",
    "    listings.loc[idx, 'minimumPrice'] = prices[idx][0]\n",
    "    listings.loc[idx, 'maximumPrice'] = prices[idx][1]"
   ]
  },
  {
   "cell_type": "code",
   "execution_count": 77,
   "metadata": {},
   "outputs": [
    {
     "name": "stdout",
     "output_type": "stream",
     "text": [
      "Count of listings without a Minimum or Maximum price: 127\n"
     ]
    }
   ],
   "source": [
    "listing_wo_min_max_mask = listings.minimumPrice.isna() | listings.maximumPrice.isna()\n",
    "listing_wo_min_max = listings[listing_wo_min_max_mask].copy()\n",
    "print(f\"Count of listings without a Minimum or Maximum price: {listing_wo_min_max.displayPrice.count()}\")"
   ]
  },
  {
   "cell_type": "markdown",
   "metadata": {},
   "source": [
    "Alright last visual inspection"
   ]
  },
  {
   "cell_type": "code",
   "execution_count": 78,
   "metadata": {},
   "outputs": [
    {
     "name": "stdout",
     "output_type": "stream",
     "text": [
      "Index: 62, Display Price: CLOSING DATE SALE - Tuesday 19th Oct @ 2pm\n",
      "Index: 63, Display Price: Contact Agent\n",
      "Index: 64, Display Price: Offers Closing Monday 11th October at 1pm\n",
      "Index: 67, Display Price: Contact Agent\n",
      "Index: 68, Display Price: UNDER CONTRACT\n",
      "Index: 69, Display Price: UNDER CONTRACT\n",
      "Index: 70, Display Price: Online auction this Saturday at 12:00pm!\n",
      "Index: 71, Display Price: Under Offer\n",
      "Index: 79, Display Price: UNDER OFFER\n",
      "Index: 80, Display Price: Forthcoming Auction\n",
      "Index: 83, Display Price: DIGITAL ONLINE AUCTION THIS SATURDAY AT 11AM\n",
      "Index: 85, Display Price: Contact Agent\n",
      "Index: 86, Display Price: Contact Agent\n",
      "Index: 90, Display Price: Contact Agent.\n",
      "Index: 91, Display Price: Contact agent\n",
      "Index: 92, Display Price: Contact Agent\n",
      "Index: 94, Display Price: Auction Sat 16th Oct at 11 AM\n",
      "Index: 97, Display Price: CONTACT AGENT\n",
      "Index: 100, Display Price: Forthcoming Auction\n",
      "Index: 101, Display Price: Contact Agent\n",
      "Index: 122, Display Price: Contact Agent\n",
      "Index: 124, Display Price: Contact Agent\n",
      "Index: 154, Display Price: Contact Agent\n",
      "Index: 155, Display Price: AUCTION\n",
      "Index: 157, Display Price: AUCTION\n",
      "Index: 158, Display Price: Contact Agent\n",
      "Index: 160, Display Price: Contact Agent\n",
      "Index: 164, Display Price: Contact Agent\n",
      "Index: 166, Display Price: AUCTION - CONTACT AGENT\n",
      "Index: 167, Display Price: AUCTION\n",
      "Index: 168, Display Price: AUCTION\n",
      "Index: 169, Display Price: AUCTION\n",
      "Index: 170, Display Price: Auction - Sat 13th Nov @ 2:00pm\n",
      "Index: 171, Display Price: Auction - Sat 6th Nov @ 11:00am\n",
      "Index: 173, Display Price: AUCTION\n",
      "Index: 174, Display Price: AUCTION - UNITS 1 & 2\n",
      "Index: 175, Display Price: AUCTION\n",
      "Index: 177, Display Price: Auction - Sat 13th Nov @ 11:00am\n",
      "Index: 178, Display Price: EOI closing 19 Nov. 2021\n",
      "Index: 180, Display Price: UNDER CONTRACT\n",
      "Index: 181, Display Price: AUCTION\n",
      "Index: 184, Display Price: CONTACT AGENT\n",
      "Index: 185, Display Price: Contact Agent\n",
      "Index: 189, Display Price: Contact Agent\n",
      "Index: 193, Display Price: Motivated Vendor Say sell Now,\n",
      "Index: 197, Display Price: Contact Agent\n",
      "Index: 203, Display Price: Expressions Of Interest\n",
      "Index: 205, Display Price: Price on Application\n",
      "Index: 211, Display Price: Contact Agent\n",
      "Index: 212, Display Price: Contact Agent\n",
      "Index: 214, Display Price: Contact Agent\n",
      "Index: 215, Display Price: Contact Agent\n",
      "Index: 216, Display Price: Contact Agent\n",
      "Index: 221, Display Price: Auction\n",
      "Index: 222, Display Price: Contact Agent\n",
      "Index: 223, Display Price: Contact Agent\n",
      "Index: 228, Display Price: Contact Agent\n",
      "Index: 230, Display Price: Auction\n",
      "Index: 231, Display Price: Contact Agent\n",
      "Index: 239, Display Price: Contact Agent\n",
      "Index: 241, Display Price: Contact Agent\n",
      "Index: 246, Display Price: Auction\n",
      "Index: 248, Display Price: Contact Agent\n",
      "Index: 249, Display Price: Contact Agent\n",
      "Index: 253, Display Price: Contact Agent\n",
      "Index: 264, Display Price: For Sale - Contact agent\n",
      "Index: 265, Display Price: Contact Agent\n",
      "Index: 266, Display Price: Contact Agent\n",
      "Index: 267, Display Price: Auction\n",
      "Index: 274, Display Price: CONTACT AGENT - EOI - MONDAY 15/11/2021 @ 5pm\n",
      "Index: 276, Display Price: Auction\n",
      "Index: 280, Display Price: Auction\n",
      "Index: 288, Display Price: Auction\n",
      "Index: 307, Display Price: Expressions of Interest\n",
      "Index: 312, Display Price: EXPRESSIONS OF INTEREST\n",
      "Index: 314, Display Price: Expressions of Interest\n",
      "Index: 319, Display Price: Auction\n",
      "Index: 322, Display Price: Forthcoming Auction\n",
      "Index: 328, Display Price: Auction - Sat 30th Oct @ 11:00am\n",
      "Index: 329, Display Price: Auction\n",
      "Index: 344, Display Price: Auction\n",
      "Index: 349, Display Price: Expressions Of Interest\n",
      "Index: 361, Display Price: UNDER CONTRACT\n",
      "Index: 398, Display Price: Build your new home with Simonds\n",
      "Index: 399, Display Price: Build your new home with Simonds\n",
      "Index: 402, Display Price: Contact Agent\n",
      "Index: 410, Display Price: Contact Agent\n",
      "Index: 413, Display Price: Auction Postponed - Contact Agent\n",
      "Index: 418, Display Price: Contact Agent\n",
      "Index: 420, Display Price: Contact Agent\n",
      "Index: 423, Display Price: 6 SOLD - 1 - 3BED REMAINING - PRICE ON REQUEST\n",
      "Index: 424, Display Price: Contact Agent\n",
      "Index: 427, Display Price: Contact Agent\n",
      "Index: 465, Display Price: Contact Agent\n",
      "Index: 468, Display Price: Auction- Contact Agent\n",
      "Index: 470, Display Price: Auction\n",
      "Index: 473, Display Price: Forthcoming Sale\n",
      "Index: 479, Display Price: by Expression of Interest\n",
      "Index: 482, Display Price: Expressions of Interest\n",
      "Index: 485, Display Price: Contact Agent\n",
      "Index: 486, Display Price: Contact Agent\n",
      "Index: 496, Display Price: Contact agent\n",
      "Index: 500, Display Price: Contact Agent\n",
      "Index: 502, Display Price: Auction | Saturday 20th November at 10.30am\n",
      "Index: 505, Display Price: Auction\n",
      "Index: 506, Display Price: Auction\n",
      "Index: 509, Display Price: Auction unless sold prior\n",
      "Index: 511, Display Price: CONTACT AGENT - EOI - MONDAY 22/11/2021 @ 5pm\n",
      "Index: 512, Display Price: Auction - Sat 27th Nov @ 11:00am\n",
      "Index: 516, Display Price: Contact Agent\n",
      "Index: 531, Display Price: AUCTION\n",
      "Index: 533, Display Price: Expression of Interest by 29th November at 3.00pm\n",
      "Index: 541, Display Price: Contact agent for price\n",
      "Index: 542, Display Price: Contact agent for price\n",
      "Index: 544, Display Price: Contact agent for price\n",
      "Index: 545, Display Price: Contact agent for price\n",
      "Index: 549, Display Price: Contact Agent\n",
      "Index: 550, Display Price: Contact Agent\n",
      "Index: 551, Display Price: Contact Agent\n",
      "Index: 552, Display Price: AUCTION\n",
      "Index: 565, Display Price: Contact Agent\n",
      "Index: 571, Display Price: Contact Agent\n",
      "Index: 575, Display Price: Auction - Sat 27th Nov @ 1:00pm\n",
      "Index: 585, Display Price: Auction | Saturday 27th November 10.30am\n",
      "Index: 587, Display Price: Contact agent for price\n",
      "Index: 588, Display Price: Contact Agent\n",
      "Index: 594, Display Price: Auction Sat 20th Nov at 12.30PM\n"
     ]
    }
   ],
   "source": [
    "for idx, displayPrice in listing_wo_min_max.displayPrice.iteritems():\n",
    "    # Contact agent will never have a value neither if it just reads Auction\n",
    "    if 'contact agent' not in displayPrice.lower() or displayPrice.lower() != 'auction':\n",
    "        print(f\"Index: {idx}, Display Price: {displayPrice}\")"
   ]
  },
  {
   "cell_type": "markdown",
   "metadata": {},
   "source": [
    "Looking good. I expect we will need to look in the statement of information to extract the price from the remaining records, however, this will require further programming and interaction with a PDF document that we don't currently have locally. "
   ]
  },
  {
   "cell_type": "markdown",
   "metadata": {},
   "source": [
    "We just need to fix up the data types of both fields and we're good to go"
   ]
  },
  {
   "cell_type": "code",
   "execution_count": 96,
   "metadata": {},
   "outputs": [],
   "source": [
    "# Need to convert to float then `Int64` to retain the Null values\n",
    "listings.minimumPrice = listings.minimumPrice.astype(float).astype('Int64')\n",
    "listings.maximumPrice = listings.maximumPrice.astype(float).astype('Int64')"
   ]
  },
  {
   "cell_type": "code",
   "execution_count": 100,
   "metadata": {},
   "outputs": [],
   "source": [
    "listings.to_csv('output/half_processed.csv')"
   ]
  },
  {
   "cell_type": "code",
   "execution_count": null,
   "metadata": {},
   "outputs": [],
   "source": []
  }
 ],
 "metadata": {
  "interpreter": {
   "hash": "29a474ae75589d28898befed9e99ae6feb65597114e98eb186ed11690dd93251"
  },
  "kernelspec": {
   "display_name": "Python 3.9.5 64-bit ('venv': venv)",
   "name": "python3"
  },
  "language_info": {
   "codemirror_mode": {
    "name": "ipython",
    "version": 3
   },
   "file_extension": ".py",
   "mimetype": "text/x-python",
   "name": "python",
   "nbconvert_exporter": "python",
   "pygments_lexer": "ipython3",
   "version": "3.9.5"
  },
  "orig_nbformat": 4
 },
 "nbformat": 4,
 "nbformat_minor": 2
}
